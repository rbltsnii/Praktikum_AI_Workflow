{
  "nbformat": 4,
  "nbformat_minor": 0,
  "metadata": {
    "colab": {
      "provenance": [],
      "authorship_tag": "ABX9TyNHB6DiHowYLhNGSe6DE4OX",
      "include_colab_link": true
    },
    "kernelspec": {
      "name": "python3",
      "display_name": "Python 3"
    },
    "language_info": {
      "name": "python"
    }
  },
  "cells": [
    {
      "cell_type": "markdown",
      "metadata": {
        "id": "view-in-github",
        "colab_type": "text"
      },
      "source": [
        "<a href=\"https://colab.research.google.com/github/rbltsnii/Praktikum_AI_Workflow/blob/main/praktikum_ai.ipynb\" target=\"_parent\"><img src=\"https://colab.research.google.com/assets/colab-badge.svg\" alt=\"Open In Colab\"/></a>"
      ]
    },
    {
      "cell_type": "code",
      "execution_count": 2,
      "metadata": {
        "id": "iS1YtheNjYfL"
      },
      "outputs": [],
      "source": [
        "import pandas as pd\n",
        "# Buat data penjualan toko\n",
        "data = {\n",
        "    \"Tanggal\": [\"2025-03-01\", \"2025-03-02\", \"2025-03-03\", \"2025-03-04\", \"2025-03-05\", \"2025-03-06\", \"2025-03-07\", \"2025-03-08\", \"2025-03-09\", \"2025-03-10\"],\n",
        "    \"Produk\": [\"Cireng Isi\", \"Gehu\", \"Lepet\", \"Cakue\", \"Es Teh\",\n",
        "               \"Kopi\", \"Indomie\", \"Rokok\", \"Bala-bala\", \"Saus Sambal\"],\n",
        "    \"Jumlah Terjual\": [8, 5, 12, 10, 6, 15, 9, 11, 7, 13],\n",
        "    \"Stok\": [30, 25, 20, 15, 18, 35, 28, 22, 19, 26],\n",
        "    \"Harga Satuan\": [2000,2000, 5000, 5000, 4000, 5000, 15000, 25000, 1000, 3000]\n",
        "}\n",
        "\n",
        "# Simpan dalam DataFrame\n",
        "df = pd.DataFrame(data)\n",
        "\n",
        "# Simpan sebagai file CSV\n",
        "df.to_csv(\"data_penjualan_latihan.csv\", index=False)"
      ]
    },
    {
      "cell_type": "code",
      "source": [
        "#membaca file CSV\n",
        "df =pd.read_csv(\"data_penjualan_latihan.csv\")\n",
        "\n",
        "#menampilkan 5 data pertama\n",
        "print(df.head())"
      ],
      "metadata": {
        "colab": {
          "base_uri": "https://localhost:8080/"
        },
        "id": "h2-SHtJPkZs2",
        "outputId": "42e4f840-95c6-403d-db91-4750bbc87b1f"
      },
      "execution_count": 3,
      "outputs": [
        {
          "output_type": "stream",
          "name": "stdout",
          "text": [
            "      Tanggal      Produk  Jumlah Terjual  Stok  Harga Satuan\n",
            "0  2025-03-01  Cireng Isi               8    30          2000\n",
            "1  2025-03-02        Gehu               5    25          2000\n",
            "2  2025-03-03       Lepet              12    20          5000\n",
            "3  2025-03-04       Cakue              10    15          5000\n",
            "4  2025-03-05      Es Teh               6    18          4000\n"
          ]
        }
      ]
    },
    {
      "cell_type": "code",
      "source": [
        "#cek apa ada data yang kosong\n",
        "print(df.isnull().sum())\n",
        "\n",
        "#konvers kolom tanggal ke format datetime\n",
        "df[\"Tanggal\"]=pd.to_datetime(df[\"Tanggal\"])\n",
        "df[\"Total Penjualan\"]=df[\"Jumlah Terjual\"] *df[\"Harga Satuan\"]\n",
        "df[\"Keuntungan\"]=df[\"Total Penjualan\"] - (df[\"Jumlah Terjual\"]*10000)\n",
        "\n",
        "print(df.head())"
      ],
      "metadata": {
        "colab": {
          "base_uri": "https://localhost:8080/"
        },
        "id": "TpkzMIwIkmJj",
        "outputId": "6b0f22a3-ca5c-4cfb-9b77-31c6c5eec384"
      },
      "execution_count": 4,
      "outputs": [
        {
          "output_type": "stream",
          "name": "stdout",
          "text": [
            "Tanggal           0\n",
            "Produk            0\n",
            "Jumlah Terjual    0\n",
            "Stok              0\n",
            "Harga Satuan      0\n",
            "dtype: int64\n",
            "     Tanggal      Produk  Jumlah Terjual  Stok  Harga Satuan  Total Penjualan  \\\n",
            "0 2025-03-01  Cireng Isi               8    30          2000            16000   \n",
            "1 2025-03-02        Gehu               5    25          2000            10000   \n",
            "2 2025-03-03       Lepet              12    20          5000            60000   \n",
            "3 2025-03-04       Cakue              10    15          5000            50000   \n",
            "4 2025-03-05      Es Teh               6    18          4000            24000   \n",
            "\n",
            "   Keuntungan  \n",
            "0      -64000  \n",
            "1      -40000  \n",
            "2      -60000  \n",
            "3      -50000  \n",
            "4      -36000  \n"
          ]
        }
      ]
    },
    {
      "cell_type": "code",
      "source": [
        "!pip install scikit-learn"
      ],
      "metadata": {
        "colab": {
          "base_uri": "https://localhost:8080/"
        },
        "id": "FS62slkvk8iP",
        "outputId": "c0d03290-09c0-48fa-c181-f4dbedab0df9"
      },
      "execution_count": 5,
      "outputs": [
        {
          "output_type": "stream",
          "name": "stdout",
          "text": [
            "Requirement already satisfied: scikit-learn in /usr/local/lib/python3.11/dist-packages (1.6.1)\n",
            "Requirement already satisfied: numpy>=1.19.5 in /usr/local/lib/python3.11/dist-packages (from scikit-learn) (1.26.4)\n",
            "Requirement already satisfied: scipy>=1.6.0 in /usr/local/lib/python3.11/dist-packages (from scikit-learn) (1.13.1)\n",
            "Requirement already satisfied: joblib>=1.2.0 in /usr/local/lib/python3.11/dist-packages (from scikit-learn) (1.4.2)\n",
            "Requirement already satisfied: threadpoolctl>=3.1.0 in /usr/local/lib/python3.11/dist-packages (from scikit-learn) (3.5.0)\n"
          ]
        }
      ]
    },
    {
      "cell_type": "code",
      "source": [
        "from sklearn.model_selection import train_test_split\n",
        "from sklearn.tree import DecisionTreeClassifier\n",
        "from sklearn.metrics import accuracy_score\n",
        "\n",
        "# Pilih fitur (x) dan target (y)\n",
        "x = df[[\"Jumlah Terjual\", \"Stok\"]]\n",
        "y = (df[\"Stok\"] < 5).astype(int) # 1 jika stok kurang dari 5, 0 jika cukup\n",
        "\n",
        "# Split data menjadi train dan test\n",
        "x_train, x_test, y_train, y_test = train_test_split(x, y, test_size=0.2, random_state=42)\n",
        "\n",
        "# Buat model Decision Tree\n",
        "model =DecisionTreeClassifier()\n",
        "model.fit(x_train, y_train)\n",
        "\n",
        "# Evaluasi model\n",
        "y_pred =model.predict(x_test)\n",
        "print(\"Akurasi Model: \", accuracy_score(y_test, y_pred))"
      ],
      "metadata": {
        "colab": {
          "base_uri": "https://localhost:8080/"
        },
        "id": "XPzTmeVPlDyP",
        "outputId": "612187b6-6223-4c6b-cc22-eeec507f68d3"
      },
      "execution_count": 6,
      "outputs": [
        {
          "output_type": "stream",
          "name": "stdout",
          "text": [
            "Akurasi Model:  1.0\n"
          ]
        }
      ]
    },
    {
      "cell_type": "code",
      "source": [
        "produk_baru=[[8,3]]\n",
        "prediksi=model.predict(produk_baru)\n",
        "\n",
        "if prediksi[0]==1:\n",
        "  print(\"produk perlu di restock\")\n",
        "else:\n",
        "  print(\"stock cukup\")"
      ],
      "metadata": {
        "colab": {
          "base_uri": "https://localhost:8080/"
        },
        "id": "GsazDgu0lP_d",
        "outputId": "f084b4b6-d222-483d-daf7-44cbd21b7316"
      },
      "execution_count": 7,
      "outputs": [
        {
          "output_type": "stream",
          "name": "stdout",
          "text": [
            "stock cukup\n"
          ]
        },
        {
          "output_type": "stream",
          "name": "stderr",
          "text": [
            "/usr/local/lib/python3.11/dist-packages/sklearn/utils/validation.py:2739: UserWarning: X does not have valid feature names, but DecisionTreeClassifier was fitted with feature names\n",
            "  warnings.warn(\n"
          ]
        }
      ]
    },
    {
      "cell_type": "code",
      "source": [
        "import matplotlib.pyplot as plt\n",
        "plt.scatter (df[\"Jumlah Terjual\"], df[\"Stok\"], c=df[\"Keuntungan\"], cmap=\"coolwarm\")\n",
        "plt.xlabel(\"Jumlah Terjual\")\n",
        "plt.ylabel(\"Stok\")\n",
        "plt.title(\"Analisis Penjualan dan Stok\")\n",
        "plt.colorbar (label=\"Keuntungan\")\n",
        "plt.show()\n"
      ],
      "metadata": {
        "colab": {
          "base_uri": "https://localhost:8080/",
          "height": 472
        },
        "id": "cACGLzhIlZhL",
        "outputId": "a7f316fe-bb28-4e1a-eda8-25f9127a60b9"
      },
      "execution_count": 8,
      "outputs": [
        {
          "output_type": "display_data",
          "data": {
            "text/plain": [
              "<Figure size 640x480 with 2 Axes>"
            ],
            "image/png": "[encoded data removed]"
          },
          "metadata": {}
        }
      ]
    }
  ]
}